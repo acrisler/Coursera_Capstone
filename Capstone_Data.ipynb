{
 "cells": [
  {
   "cell_type": "markdown",
   "metadata": {},
   "source": [
    "# IBM Data Science Capstone Project\n"
   ]
  },
  {
   "cell_type": "markdown",
   "metadata": {},
   "source": [
    "\n",
    "#### The Data\n",
    "\n",
    "I will be webscraping __[City Population](https://www.citypopulation.de/en/japan/cities/)__ for data tables regarding the cities in Japan which have more than 150,000 inhabitants. Later on we can refine the list to the major cities in Japan if desired\n",
    "\n",
    "Some features from the City Population data we want to consider:\n",
    "- Name of City (English and Japanese), \n",
    "- Administrative Divison (or Prefectural Entity)\n",
    "- Population\n",
    "\n",
    "I will also be utilizing Foursquare's location data.\n",
    "With Foursquare location data we will consider:\n",
    "- Most popular Venues (General)\n",
    "- Most popular Venues by type \n",
    "    - Places by activity type (Museum, Parks, Temple, Onsen, etc), \n",
    "    - Resturants by cuisine type\n",
    "- Trending Venues in the area\n"
   ]
  },
  {
   "cell_type": "markdown",
   "metadata": {},
   "source": [
    "**How will the data be used?**\n",
    "\n",
    "We are aiming to help people explore Japanese cities by popular and trending venues to find their next nearby activity. \n",
    "\n",
    "I will use the City Population data to obtain a list of cities in Japan and then find the coordinates of each city.\n",
    "Then I will utilize Foursquare location data to discover the most popular venues in each city, popular venues by activity type, trending venues in the area. After exploring the cities I will use the above features to group the cities into clusters and produce visiualizations and an interactive map. "
   ]
  }
 ],
 "metadata": {
  "kernelspec": {
   "display_name": "Python 3",
   "language": "python",
   "name": "python3"
  },
  "language_info": {
   "codemirror_mode": {
    "name": "ipython",
    "version": 3
   },
   "file_extension": ".py",
   "mimetype": "text/x-python",
   "name": "python",
   "nbconvert_exporter": "python",
   "pygments_lexer": "ipython3",
   "version": "3.8.5"
  }
 },
 "nbformat": 4,
 "nbformat_minor": 4
}
