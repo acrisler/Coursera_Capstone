{
 "cells": [
  {
   "cell_type": "markdown",
   "metadata": {},
   "source": [
    "# IBM Data Science Capstone Project\n",
    "\n"
   ]
  },
  {
   "cell_type": "markdown",
   "metadata": {},
   "source": [
    "## Introduction\n",
    "#### The Business Problem\n",
    "\n",
    "When travelling to a new place it can be difficult to find the most popular and highly rated venues or activites in the area you are staying, especially if staying in a foriegn country.\n",
    "We are looking to create an application which enables travellers in Japan to explore cities. We want the user to be able to explore the trending venues, popular eateries, and other activies in various cities to plan their trip or quickly find a local venue to visit. \n",
    "\n",
    "*Questions one might ask :*\n",
    "\n",
    "- Where are the popular local tourist attractions in the city I'm travelling to? Can I see them organized by type of activity?\n",
    "\n",
    "- What are the most popular resturants or eateries in the area? Can I pick based on cuisine?\n"
   ]
  }
 ],
 "metadata": {
  "kernelspec": {
   "display_name": "Python 3",
   "language": "python",
   "name": "python3"
  },
  "language_info": {
   "codemirror_mode": {
    "name": "ipython",
    "version": 3
   },
   "file_extension": ".py",
   "mimetype": "text/x-python",
   "name": "python",
   "nbconvert_exporter": "python",
   "pygments_lexer": "ipython3",
   "version": "3.8.5"
  }
 },
 "nbformat": 4,
 "nbformat_minor": 4
}
